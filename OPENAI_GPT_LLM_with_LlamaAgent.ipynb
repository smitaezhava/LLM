{
 "cells": [
  {
   "cell_type": "markdown",
   "metadata": {},
   "source": [
    "# This notebook demonstrates a simple example of LLM Agents.\n",
    "#### LLM : OpenAI gpt-40-mini\n",
    "#### Agent Framework: Llama"
   ]
  },
  {
   "cell_type": "markdown",
   "metadata": {},
   "source": [
    "## Install required packages"
   ]
  },
  {
   "cell_type": "code",
   "execution_count": 1,
   "metadata": {
    "colab": {
     "base_uri": "https://localhost:8080/"
    },
    "id": "HJkXUkDPAwJK",
    "outputId": "10a089a3-7d35-49ec-a4ff-fcf563f65859"
   },
   "outputs": [
    {
     "name": "stdout",
     "output_type": "stream",
     "text": [
      "\u001b[2K   \u001b[90m━━━━━━━━━━━━━━━━━━━━━━━━━━━━━━━━━━━━━━━━\u001b[0m \u001b[32m7.7/7.7 MB\u001b[0m \u001b[31m60.3 MB/s\u001b[0m eta \u001b[36m0:00:00\u001b[0m\n",
      "\u001b[2K   \u001b[90m━━━━━━━━━━━━━━━━━━━━━━━━━━━━━━━━━━━━━━━━\u001b[0m \u001b[32m1.2/1.2 MB\u001b[0m \u001b[31m51.0 MB/s\u001b[0m eta \u001b[36m0:00:00\u001b[0m\n",
      "\u001b[2K   \u001b[90m━━━━━━━━━━━━━━━━━━━━━━━━━━━━━━━━━━━━━━━━\u001b[0m \u001b[32m50.9/50.9 kB\u001b[0m \u001b[31m3.1 MB/s\u001b[0m eta \u001b[36m0:00:00\u001b[0m\n",
      "\u001b[2K   \u001b[90m━━━━━━━━━━━━━━━━━━━━━━━━━━━━━━━━━━━━━━━━\u001b[0m \u001b[32m129.3/129.3 kB\u001b[0m \u001b[31m8.5 MB/s\u001b[0m eta \u001b[36m0:00:00\u001b[0m\n",
      "\u001b[?25h"
     ]
    }
   ],
   "source": [
    "!pip install -q llama-index-core llama-index-llms-openai dotenv"
   ]
  },
  {
   "cell_type": "markdown",
   "metadata": {},
   "source": [
    "## Import required modules"
   ]
  },
  {
   "cell_type": "code",
   "execution_count": 2,
   "metadata": {
    "id": "4z3ZTlR7AwkY"
   },
   "outputs": [],
   "source": [
    "from llama_index.llms.openai import OpenAI\n",
    "from llama_index.core.agent.workflow import AgentWorkflow, FunctionAgent\n",
    "import os\n",
    "from google.colab import userdata"
   ]
  },
  {
   "cell_type": "code",
   "execution_count": 1,
   "metadata": {
    "colab": {
     "base_uri": "https://localhost:8080/"
    },
    "id": "D-qHmhAUHU-L",
    "outputId": "03edcbc5-d286-439a-b801-077b3e814230"
   },
   "outputs": [
    {
     "name": "stdout",
     "output_type": "stream",
     "text": [
      "env: VARIABLE_NAME=userdata.get('OPENAI_API_KEY')\n"
     ]
    }
   ],
   "source": [
    "# Get the OpenAI API key\n",
    "%env VARIABLE_NAME=userdata.get('OPENAI_API_KEY')"
   ]
  },
  {
   "cell_type": "markdown",
   "metadata": {
    "id": "70OZyJJ0BWWP"
   },
   "source": [
    "## Define a few functions to be used as tools by the LLM Agent"
   ]
  },
  {
   "cell_type": "code",
   "execution_count": 4,
   "metadata": {
    "id": "iALDz6b5B7S_"
   },
   "outputs": [],
   "source": [
    "#Function to convert dollar to rupee\n",
    "def convert_dollar_to_rupee(to_convert):\n",
    "  \"\"\"Converts dollar to rupee\"\"\"\n",
    "  return str(to_convert) + ' dollar(s) is equal approx. to ' + str(to_convert * 85) + ' rupee(s).'"
   ]
  },
  {
   "cell_type": "code",
   "execution_count": 2,
   "metadata": {
    "id": "IS8UDoeCC4lf"
   },
   "outputs": [],
   "source": [
    "#Function to convert pound to rupee\n",
    "def convert_pound_to_rupee(to_convert):\n",
    "  \"\"\"Converts pound to rupees\"\"\"\n",
    "  return str(to_convert) + ' pound(s) is approx. equal to ' + str(to_convert * 113) + ' rupee(s).'"
   ]
  },
  {
   "cell_type": "code",
   "execution_count": 3,
   "metadata": {
    "id": "3yyyOs4kDCRr"
   },
   "outputs": [],
   "source": [
    "#Function to convert dirham to rupee\n",
    "def convert_dirham_to_rupee(to_convert):\n",
    "  \"\"\"Converts dirham to rupees\"\"\"\n",
    "  return str(to_convert) + ' dirham(s) is approx. equal to ' + str(to_convert * 23) + ' rupee(s).'"
   ]
  },
  {
   "cell_type": "markdown",
   "metadata": {},
   "source": [
    "## Define the agent with the required parameters i.e. LLM, tools and prompt. Verify the response."
   ]
  },
  {
   "cell_type": "code",
   "execution_count": 39,
   "metadata": {
    "colab": {
     "base_uri": "https://localhost:8080/"
    },
    "id": "XQZQCQBZPSOW",
    "outputId": "a5b03f7a-db94-4240-813c-2f7eeca97960"
   },
   "outputs": [
    {
     "name": "stdout",
     "output_type": "stream",
     "text": [
      "5 dollars is approximately equal to 425 rupees.\n"
     ]
    }
   ],
   "source": [
    "llm = OpenAI(\"gpt-4o-mini\")\n",
    "workflow=FunctionAgent(tools=[convert_dollar_to_rupee, convert_pound_to_rupee, convert_dirham_to_rupee], llm=llm, system_prompt='You are an assistant that peforms currency conversion to dollar using tools.')\n",
    "response = await workflow.run(user_msg=\"How many rupees is 5 dollars?\")\n",
    "print(response)"
   ]
  },
  {
   "cell_type": "code",
   "execution_count": 40,
   "metadata": {
    "colab": {
     "base_uri": "https://localhost:8080/"
    },
    "id": "VotXPH_pPYW2",
    "outputId": "f4ec9319-47e8-40a3-8fae-14bc9df8cc11"
   },
   "outputs": [
    {
     "name": "stdout",
     "output_type": "stream",
     "text": [
      "5 dirhams is approximately equal to 115 rupees.\n"
     ]
    }
   ],
   "source": [
    "response = await workflow.run(user_msg=\"How many rupees is 5 dirham?\")\n",
    "print(response)"
   ]
  },
  {
   "cell_type": "code",
   "execution_count": null,
   "metadata": {
    "id": "svlLuA5_FT2Z"
   },
   "outputs": [],
   "source": []
  }
 ],
 "metadata": {
  "colab": {
   "provenance": []
  },
  "kernelspec": {
   "display_name": "Python 3 (ipykernel)",
   "language": "python",
   "name": "python3"
  },
  "language_info": {
   "codemirror_mode": {
    "name": "ipython",
    "version": 3
   },
   "file_extension": ".py",
   "mimetype": "text/x-python",
   "name": "python",
   "nbconvert_exporter": "python",
   "pygments_lexer": "ipython3",
   "version": "3.12.4"
  }
 },
 "nbformat": 4,
 "nbformat_minor": 4
}
