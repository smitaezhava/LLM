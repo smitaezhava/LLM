{
 "cells": [
  {
   "cell_type": "markdown",
   "id": "11234e27-88e8-4667-9fba-11436d5c93cf",
   "metadata": {},
   "source": [
    "# This notebook demonstrates the below:\n",
    "##### - How to work with Open AI LLM models \n",
    "##### - Some prompting techniques \n",
    "##### - Examples of Text to SQL conversion using gpt-4o-mini LLM model"
   ]
  },
  {
   "cell_type": "markdown",
   "id": "28e92a35-8281-4ae9-b9b9-46d968128ab8",
   "metadata": {},
   "source": [
    "## Install the required packages"
   ]
  },
  {
   "cell_type": "code",
   "execution_count": 19,
   "id": "963b4d96-22fd-4063-afcd-f1f11051edb1",
   "metadata": {},
   "outputs": [
    {
     "name": "stdout",
     "output_type": "stream",
     "text": [
      "Requirement already satisfied: openai in c:\\users\\lenovo-pc\\anaconda3\\lib\\site-packages (1.69.0)\n",
      "Requirement already satisfied: anyio<5,>=3.5.0 in c:\\users\\lenovo-pc\\anaconda3\\lib\\site-packages (from openai) (4.2.0)\n",
      "Requirement already satisfied: distro<2,>=1.7.0 in c:\\users\\lenovo-pc\\anaconda3\\lib\\site-packages (from openai) (1.9.0)\n",
      "Requirement already satisfied: httpx<1,>=0.23.0 in c:\\users\\lenovo-pc\\anaconda3\\lib\\site-packages (from openai) (0.28.1)\n",
      "Requirement already satisfied: jiter<1,>=0.4.0 in c:\\users\\lenovo-pc\\anaconda3\\lib\\site-packages (from openai) (0.9.0)\n",
      "Requirement already satisfied: pydantic<3,>=1.9.0 in c:\\users\\lenovo-pc\\anaconda3\\lib\\site-packages (from openai) (2.11.1)\n",
      "Requirement already satisfied: sniffio in c:\\users\\lenovo-pc\\anaconda3\\lib\\site-packages (from openai) (1.3.0)\n",
      "Requirement already satisfied: tqdm>4 in c:\\users\\lenovo-pc\\anaconda3\\lib\\site-packages (from openai) (4.66.4)\n",
      "Requirement already satisfied: typing-extensions<5,>=4.11 in c:\\users\\lenovo-pc\\anaconda3\\lib\\site-packages (from openai) (4.13.0)\n",
      "Requirement already satisfied: idna>=2.8 in c:\\users\\lenovo-pc\\anaconda3\\lib\\site-packages (from anyio<5,>=3.5.0->openai) (3.7)\n",
      "Requirement already satisfied: certifi in c:\\users\\lenovo-pc\\anaconda3\\lib\\site-packages (from httpx<1,>=0.23.0->openai) (2024.6.2)\n",
      "Requirement already satisfied: httpcore==1.* in c:\\users\\lenovo-pc\\anaconda3\\lib\\site-packages (from httpx<1,>=0.23.0->openai) (1.0.7)\n",
      "Requirement already satisfied: h11<0.15,>=0.13 in c:\\users\\lenovo-pc\\anaconda3\\lib\\site-packages (from httpcore==1.*->httpx<1,>=0.23.0->openai) (0.14.0)\n",
      "Requirement already satisfied: annotated-types>=0.6.0 in c:\\users\\lenovo-pc\\anaconda3\\lib\\site-packages (from pydantic<3,>=1.9.0->openai) (0.6.0)\n",
      "Requirement already satisfied: pydantic-core==2.33.0 in c:\\users\\lenovo-pc\\anaconda3\\lib\\site-packages (from pydantic<3,>=1.9.0->openai) (2.33.0)\n",
      "Requirement already satisfied: typing-inspection>=0.4.0 in c:\\users\\lenovo-pc\\anaconda3\\lib\\site-packages (from pydantic<3,>=1.9.0->openai) (0.4.0)\n",
      "Requirement already satisfied: colorama in c:\\users\\lenovo-pc\\anaconda3\\lib\\site-packages (from tqdm>4->openai) (0.4.6)\n"
     ]
    }
   ],
   "source": [
    "!pip install openai\n",
    "!pip install -q pandas"
   ]
  },
  {
   "cell_type": "markdown",
   "id": "c35fba49-2cc5-448b-8e50-378428fad037",
   "metadata": {},
   "source": [
    "## Import the required modules"
   ]
  },
  {
   "cell_type": "code",
   "execution_count": 2,
   "id": "99ead40c-21b9-40da-bc95-3ca25c5a96c4",
   "metadata": {},
   "outputs": [],
   "source": [
    "from openai import OpenAI\n",
    "import os\n",
    "import sqlite3\n",
    "import pandas as pd"
   ]
  },
  {
   "cell_type": "markdown",
   "id": "49871898-fbb4-41c0-a87a-8fd7b7e6e8d8",
   "metadata": {},
   "source": [
    "## Initialize the OpenAI LLM client using the API Key"
   ]
  },
  {
   "cell_type": "code",
   "execution_count": null,
   "id": "cbb1be60-d96c-4d79-b915-c794a6debfc0",
   "metadata": {},
   "outputs": [],
   "source": [
    "client=OpenAI(api_key=os.environ.get('OPENAI_API_KEY'))"
   ]
  },
  {
   "cell_type": "markdown",
   "id": "804bdce3-64a5-4f7f-aaff-3350bdfd218b",
   "metadata": {},
   "source": [
    "## Sample query and response from the LLM model"
   ]
  },
  {
   "cell_type": "code",
   "execution_count": 5,
   "id": "2c505839-5783-4916-b291-f17d8f9a106b",
   "metadata": {},
   "outputs": [
    {
     "name": "stdout",
     "output_type": "stream",
     "text": [
      "The capital of Ethiopia is Addis Ababa. It's a vibrant city known for its rich history and as a center for diplomacy and culture in Africa. If you have any more questions about Ethiopia or its capital, feel free to ask!\n"
     ]
    }
   ],
   "source": [
    "response=client.responses.create(model='gpt-4o-mini',instructions='You are a coding assistant that talks like a teacher',input='What is the capital of Ethiopia?')\n",
    "print(response.output_text)"
   ]
  },
  {
   "cell_type": "markdown",
   "id": "c536267c-ab7d-4ba1-9c79-e8eed99be5a0",
   "metadata": {},
   "source": [
    "## Text to SQL conversion example with a simple prompt"
   ]
  },
  {
   "cell_type": "markdown",
   "id": "07f192f6-268e-4bee-9646-97a136e0e48e",
   "metadata": {},
   "source": [
    "#### Step 1. Create an sqlite database and a few tables and populate them with data"
   ]
  },
  {
   "cell_type": "code",
   "execution_count": 9,
   "id": "da4491c2-7ceb-4ddf-b3ec-4bcd39793a87",
   "metadata": {},
   "outputs": [
    {
     "name": "stdout",
     "output_type": "stream",
     "text": [
      "Database and tables created. Data populated in tables.\n"
     ]
    }
   ],
   "source": [
    "db_path = 'C:/Smita/AIML/sqlite/sqlite_db/client_data.db'\n",
    "\n",
    "if not os.path.exists(db_path):\n",
    "    with sqlite3.connect(db_path) as db_conn:\n",
    "        db_cur=db_conn.cursor()\n",
    "        db_cur.executescript('''CREATE TABLE IF NOT EXISTS client (client_id INTEGER PRIMARY KEY, client_name TEXT NOT NULL, country_code TEXT);\n",
    "         CREATE TABLE IF NOT EXISTS country(country_id INTEGER PRIMARY KEY, country_code TEXT NOT NULL, country_name TEXT);''')\n",
    "        db_cur.executemany('INSERT INTO client values (?,?,?)',[(1,'Smita','IN'),(2,'Matthias','DE'),(3,'Brendan','UK'),(4,'Frank','US'),(5,'Sergey','RU')])\n",
    "        db_cur.executemany('INSERT INTO country values (?,?,?)',[(91,'IN','India'),(49,'DE','Germany'),(44,'UK','United Kingdom'),(1,'US','United States of America'),(7,'RU','Sergey')])\n",
    "    \n",
    "        print('Database and tables created. Data populated in tables.')"
   ]
  },
  {
   "cell_type": "markdown",
   "id": "9f834ed2-a067-4e8a-a9a6-d0257fd29a5c",
   "metadata": {},
   "source": [
    "#### Step 2. View the data in the tables"
   ]
  },
  {
   "cell_type": "code",
   "execution_count": 10,
   "id": "3696ea51-578b-49c4-ae3e-bbe340a9babd",
   "metadata": {},
   "outputs": [
    {
     "name": "stdout",
     "output_type": "stream",
     "text": [
      "\n",
      "CLIENT table: \n",
      "\n",
      "   client_id client_name country_code\n",
      "0          1       Smita           IN\n",
      "1          2    Matthias           DE\n",
      "2          3     Brendan           UK\n",
      "3          4       Frank           US\n",
      "4          5      Sergey           RU\n",
      "\n",
      "COUNTRY table: \n",
      "\n",
      "   country_id country_code              country_name\n",
      "0           1           US  United States of America\n",
      "1           7           RU                    Sergey\n",
      "2          44           UK            United Kingdom\n",
      "3          49           DE                   Germany\n",
      "4          91           IN                     India\n"
     ]
    }
   ],
   "source": [
    "with sqlite3.connect(db_path) as db_conn:\n",
    "    for table in ['client','country']:\n",
    "        data=pd.read_sql_query(f'SELECT * from {table}',db_conn)\n",
    "        print('\\n' + str(table).upper() + ' table: \\n')\n",
    "        print(data)"
   ]
  },
  {
   "cell_type": "markdown",
   "id": "c2ac2838-ddaa-40d5-89af-71b914ae08dd",
   "metadata": {},
   "source": [
    "#### Step 3. Get the schema definition into a variable"
   ]
  },
  {
   "cell_type": "code",
   "execution_count": 11,
   "id": "ec6774ef-f7c8-4d38-a703-e8999b41e766",
   "metadata": {},
   "outputs": [
    {
     "name": "stdout",
     "output_type": "stream",
     "text": [
      "Table client:\n",
      " client_id (INTEGER)\n",
      " client_name (TEXT)\n",
      " country_code (TEXT)\n",
      "Table country:\n",
      " country_id (INTEGER)\n",
      " country_code (TEXT)\n",
      " country_name (TEXT)\n",
      "\n"
     ]
    }
   ],
   "source": [
    "def get_schema_defn(db_path):\n",
    "    db_conn = sqlite3.connect(db_path)\n",
    "    db_cur=db_conn.cursor()\n",
    "    db_cur.execute(\"SELECT name from sqlite_master where type = 'table';\")\n",
    "    table_list=db_cur.fetchall()\n",
    "    schema_def=[]\n",
    "    for (table_name,) in table_list:\n",
    "        db_cur.execute(f'PRAGMA table_info ({table_name})')\n",
    "        columns=db_cur.fetchall()\n",
    "        table_def=''.join(f'Table {table_name}:\\n')\n",
    "        table_def+= ''.join(f' {col[1]} ({col[2]})\\n' for col in columns)\n",
    "        schema_def.append(table_def)\n",
    "    db_conn.close()\n",
    "    return schema_def\n",
    "\n",
    "schema_def_txt=get_schema_defn(db_path)\n",
    "print(''.join(schema_def_txt))"
   ]
  },
  {
   "cell_type": "markdown",
   "id": "2303bfc7-93ac-43dc-9e97-22325c730cbf",
   "metadata": {},
   "source": [
    "#### Step 4. Write a prompt for the model"
   ]
  },
  {
   "cell_type": "code",
   "execution_count": 14,
   "id": "eb7150ef-21be-473e-b103-79c4be803860",
   "metadata": {
    "scrolled": true
   },
   "outputs": [
    {
     "name": "stdout",
     "output_type": "stream",
     "text": [
      " You are an AI assistant that converts natural language questions to SQLLite queries. Given the below database schema : \n",
      "    <schema>\n",
      "    ['Table client:\\n client_id (INTEGER)\\n client_name (TEXT)\\n country_code (TEXT)\\n', 'Table country:\\n country_id (INTEGER)\\n country_code (TEXT)\\n country_name (TEXT)\\n']\n",
      "    </schema>\n",
      "\n",
      "    Convert the below natural language question to SQL query.\n",
      "    <query>\n",
      "    What is the name of the client who lives in Russia?\n",
      "    </query>\n",
      "\n",
      "    Provide only the SQL query in your response, enclosed in <sql> tags.\n",
      "    \n"
     ]
    }
   ],
   "source": [
    "def get_prompt(schema, query):\n",
    "    return f''' You are an AI assistant that converts natural language questions to SQLLite queries. Given the below database schema : \n",
    "    <schema>\n",
    "    {schema}\n",
    "    </schema>\n",
    "\n",
    "    Convert the below natural language question to SQL query.\n",
    "    <query>\n",
    "    {query}\n",
    "    </query>\n",
    "\n",
    "    Provide only the SQL query in your response, enclosed in <sql> tags.\n",
    "    '''\n",
    "\n",
    "#Check the prompt\n",
    "prompt_txt=get_prompt(schema_def_txt,'What is the name of the client who lives in Russia?')\n",
    "print(prompt_txt)"
   ]
  },
  {
   "cell_type": "markdown",
   "id": "f87abaf4-4b47-4ad6-a79c-bdb9d61bff96",
   "metadata": {},
   "source": [
    "#### Step 5. Call OpenAI API to get the SQL query"
   ]
  },
  {
   "cell_type": "code",
   "execution_count": 16,
   "id": "73c336b5-9177-4098-a74e-51c34cfbb058",
   "metadata": {},
   "outputs": [
    {
     "name": "stdout",
     "output_type": "stream",
     "text": [
      "<sql>SELECT client_name FROM client WHERE country_code = (SELECT country_code FROM country WHERE country_name = 'Russia');</sql>\n"
     ]
    }
   ],
   "source": [
    "def get_sql_query(input_prompt):\n",
    "    response = client.responses.create(model='gpt-4o-mini',input=input_prompt)\n",
    "    return response\n",
    "                                      \n",
    "response=get_sql_query(prompt_txt) #Pass the above defined prompt to the API\n",
    "print(response.output_text)"
   ]
  },
  {
   "cell_type": "markdown",
   "id": "13394318-7302-43d3-8003-69301dfbef82",
   "metadata": {},
   "source": [
    "#### Step 6. SQL to text conversion implementation using a more effective prompting technique called few-shot learning"
   ]
  },
  {
   "cell_type": "code",
   "execution_count": 17,
   "id": "7bc21a7d-3d12-40ec-94dd-19c7c4053afe",
   "metadata": {},
   "outputs": [
    {
     "name": "stdout",
     "output_type": "stream",
     "text": [
      " You are an AI assistant that converts natural language questions to SQL queries. Given the below database schema: \n",
      "    <schema>\n",
      "    ['Table client:\\n client_id (INTEGER)\\n client_name (TEXT)\\n country_code (TEXT)\\n', 'Table country:\\n country_id (INTEGER)\\n country_code (TEXT)\\n country_name (TEXT)\\n']\n",
      "    </schema>\n",
      "\n",
      "    And the below are some examples of natural language questions and their corresponding SQL:\n",
      "    <example>\n",
      "    Example 1: \n",
      "    <query>Get the party name from Germany.</query>\n",
      "    <output>SELECT a.name from party a join country b on a.country_code = b.country_code and a.country_name = 'Germany';</output>\n",
      "\n",
      "    Example 2:\n",
      "    user: How many parties are there?\n",
      "    SQL: SELECT count(1) from clients;\n",
      "\n",
      "    Example 3:\n",
      "    user: List all the country names\n",
      "    SQL: SELECT country_name from country\n",
      "\n",
      "    Example 4:\n",
      "    user: List all the party names along with their country names\n",
      "    SQL: SELECT a.name,b.country_name from client a join country b on a.country_code = b.country_code;</output>\n",
      "    </example>\n",
      "    \n",
      "    Now, convert the below natural language question to SQL query.\n",
      "    <query>\n",
      "    What is the name of the client who lives in India?\n",
      "    </query>\n",
      "\n",
      "    Provide only the SQL query in your response, enclosed in <sql> tags.\n",
      "    \n"
     ]
    }
   ],
   "source": [
    "def get_prompt_fewshot(schema, query):\n",
    "\n",
    "    examples = '''Example 1: \n",
    "    <query>Get the party name from Germany.</query>\n",
    "    <output>SELECT a.name from party a join country b on a.country_code = b.country_code and a.country_name = 'Germany';</output>\n",
    "\n",
    "    Example 2:\n",
    "    user: How many parties are there?\n",
    "    SQL: SELECT count(1) from clients;\n",
    "\n",
    "    Example 3:\n",
    "    user: List all the country names\n",
    "    SQL: SELECT country_name from country\n",
    "\n",
    "    Example 4:\n",
    "    user: List all the party names along with their country names\n",
    "    SQL: SELECT a.name,b.country_name from client a join country b on a.country_code = b.country_code;</output>'''\n",
    "    \n",
    "    return f''' You are an AI assistant that converts natural language questions to SQL queries. Given the below database schema: \n",
    "    <schema>\n",
    "    {schema}\n",
    "    </schema>\n",
    "\n",
    "    And the below are some examples of natural language questions and their corresponding SQL:\n",
    "    <example>\n",
    "    {examples}\n",
    "    </example>\n",
    "    \n",
    "    Now, convert the below natural language question to SQL query.\n",
    "    <query>\n",
    "    {query}\n",
    "    </query>\n",
    "\n",
    "    Provide only the SQL query in your response, enclosed in <sql> tags.\n",
    "    '''\n",
    "\n",
    "#Check the prompt\n",
    "prompt_txt=get_prompt_fewshot(schema_def_txt,'What is the name of the client who lives in India?')\n",
    "print(prompt_txt)"
   ]
  },
  {
   "cell_type": "markdown",
   "id": "b4f37c30-15d6-497d-a2ab-0ef6a0108ae5",
   "metadata": {},
   "source": [
    "#### Let's pass the new prompt and get the sql"
   ]
  },
  {
   "cell_type": "code",
   "execution_count": 18,
   "id": "5d665ec1-24ff-484a-96b0-d7068d371859",
   "metadata": {},
   "outputs": [
    {
     "name": "stdout",
     "output_type": "stream",
     "text": [
      "<sql>SELECT client_name FROM client WHERE country_code = (SELECT country_code FROM country WHERE country_name = 'India');</sql>\n"
     ]
    }
   ],
   "source": [
    "response=get_sql_query(prompt_txt) #Pass the above defined prompt to the API\n",
    "print(response.output_text)"
   ]
  },
  {
   "cell_type": "code",
   "execution_count": null,
   "id": "4f1a7f51-14c7-4a8f-933a-071069a656e6",
   "metadata": {},
   "outputs": [],
   "source": []
  }
 ],
 "metadata": {
  "kernelspec": {
   "display_name": "Python 3 (ipykernel)",
   "language": "python",
   "name": "python3"
  },
  "language_info": {
   "codemirror_mode": {
    "name": "ipython",
    "version": 3
   },
   "file_extension": ".py",
   "mimetype": "text/x-python",
   "name": "python",
   "nbconvert_exporter": "python",
   "pygments_lexer": "ipython3",
   "version": "3.12.4"
  }
 },
 "nbformat": 4,
 "nbformat_minor": 5
}
