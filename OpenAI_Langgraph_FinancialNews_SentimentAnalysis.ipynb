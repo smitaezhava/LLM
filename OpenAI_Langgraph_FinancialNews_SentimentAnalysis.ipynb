{
  "nbformat": 4,
  "nbformat_minor": 0,
  "metadata": {
    "colab": {
      "provenance": []
    },
    "kernelspec": {
      "name": "python3",
      "display_name": "Python 3"
    },
    "language_info": {
      "name": "python"
    }
  },
  "cells": [
    {
      "cell_type": "markdown",
      "source": [
        "# This notepad demonstrates the usage Open AI's LLM model and Langgraph Agent Framework for performing sentiment analysis on financial news articles."
      ],
      "metadata": {
        "id": "HmRFj__dvz_p"
      }
    },
    {
      "cell_type": "markdown",
      "source": [
        "### Install required packages"
      ],
      "metadata": {
        "id": "zdoxvQTdwWhl"
      }
    },
    {
      "cell_type": "code",
      "source": [
        "!pip install -q langgraph langchain_openai"
      ],
      "metadata": {
        "id": "gzUhLus8YcMc"
      },
      "execution_count": 134,
      "outputs": []
    },
    {
      "cell_type": "markdown",
      "source": [
        "### Import required modules"
      ],
      "metadata": {
        "id": "osiA8H-owlWb"
      }
    },
    {
      "cell_type": "code",
      "source": [
        "import os\n",
        "from google.colab import userdata\n",
        "from langgraph.graph import StateGraph, START,END\n",
        "from langchain_openai import ChatOpenAI\n",
        "from langchain_core.messages import HumanMessage\n",
        "from typing import Dict, List, TypedDict, Any"
      ],
      "metadata": {
        "id": "EhoNWnQ5ZCn5"
      },
      "execution_count": 135,
      "outputs": []
    },
    {
      "cell_type": "markdown",
      "source": [
        "### Get the api_key and initilize the model"
      ],
      "metadata": {
        "id": "GgsBNl7nw1o4"
      }
    },
    {
      "cell_type": "code",
      "source": [
        "os.environ['OPENAI_API_KEY']=userdata.get('OPENAI_API_KEY')"
      ],
      "metadata": {
        "id": "l9NO7nOuYb3D"
      },
      "execution_count": 136,
      "outputs": []
    },
    {
      "cell_type": "code",
      "source": [
        "model=ChatOpenAI(temperature=0, model=\"gpt-4o-mini\")"
      ],
      "metadata": {
        "id": "zOzutFMZaiNS"
      },
      "execution_count": 137,
      "outputs": []
    },
    {
      "cell_type": "markdown",
      "source": [
        "### Define a class with the required variables for the graph"
      ],
      "metadata": {
        "id": "czJQz029xkqI"
      }
    },
    {
      "cell_type": "code",
      "source": [
        "class newsState(TypedDict):\n",
        "  user_input: str\n",
        "  news_sentiment: str\n",
        "  user_output: str\n",
        "  messages: List[Dict[str,Any]]"
      ],
      "metadata": {
        "id": "ftzZhFkZcWSN"
      },
      "execution_count": 178,
      "outputs": []
    },
    {
      "cell_type": "markdown",
      "source": [
        "### Define a function for performing sentiment analysis on the input news article for the graphs node."
      ],
      "metadata": {
        "id": "o0H3bUnJxwY3"
      }
    },
    {
      "cell_type": "code",
      "execution_count": 179,
      "metadata": {
        "id": "isnGVgdwV2A_"
      },
      "outputs": [],
      "source": [
        "def perform_sentiment_analysis(newsState):\n",
        "  \"\"\"Analyze financial news and perform sentiment analysis.\"\"\"\n",
        "\n",
        "  prompt=f\"\"\"You are a financial news sentiment analysis expert. Analyze the sentiment of the following financial news article and classify it as either positive, negative, or neutral.\n",
        "\n",
        "  {newsState['user_input']}\n",
        "\n",
        "  Respond with the sentiment only. Do not explain your reasoning.\"\"\"\n",
        "\n",
        "  messages=[HumanMessage(content=prompt)]\n",
        "\n",
        "  response = model.invoke(messages)\n",
        "\n",
        "  new_messages=[{'role':'user', 'content' : prompt}, {'role':'assistant', 'content':response.content}]\n",
        "\n",
        "  return {'news_sentiment' : response.content, 'messages' : new_messages}"
      ]
    },
    {
      "cell_type": "markdown",
      "source": [
        "### Define a function for providing the sentiment as an output."
      ],
      "metadata": {
        "id": "KLyWlYXTyMPB"
      }
    },
    {
      "cell_type": "markdown",
      "source": [
        "### Define the graph with the required nodes and edges"
      ],
      "metadata": {
        "id": "5OaHoLUUyhay"
      }
    },
    {
      "cell_type": "code",
      "source": [
        "newsGraph=StateGraph(newsState)\n",
        "newsGraph.add_node(\"perform_sentiment_analysis\",perform_sentiment_analysis)\n",
        "newsGraph.add_node(\"draft_user_response\",draft_user_response)\n",
        "newsGraph.add_edge(START,\"perform_sentiment_analysis\")\n",
        "newsGraph.add_edge(\"perform_sentiment_analysis\",\"draft_user_response\")\n",
        "newsGraph.add_edge(\"draft_user_response\",END)\n",
        "compiled_graph=newsGraph.compile()"
      ],
      "metadata": {
        "id": "OeI_CuvFmfI8"
      },
      "execution_count": 181,
      "outputs": []
    },
    {
      "cell_type": "markdown",
      "source": [
        "### Verify the output"
      ],
      "metadata": {
        "id": "S5lQJxjxytt_"
      }
    },
    {
      "cell_type": "code",
      "source": [
        "print(output_news_sentiment)"
      ],
      "metadata": {
        "colab": {
          "base_uri": "https://localhost:8080/"
        },
        "id": "P0pTEBrX9QPE",
        "outputId": "69f299b2-4360-43c7-e745-866268ed3515"
      },
      "execution_count": 183,
      "outputs": [
        {
          "output_type": "stream",
          "name": "stdout",
          "text": [
            "{'user_input': 'Stock Radar: LTIMindtree gives a breakout from falling wedge pattern; time to buy after over 30% fall from highs.\\nLTIMindtree Ltd, after a 32% fall, shows signs of a bullish comeback, breaking out from a falling wedge pattern.\\nExperts suggest short-term traders can buy with a target of Rs 4,820 in 3-4 weeks, supported by positive technical indicators like Supertrend buy and RSI divergence.\\nA stop loss at Rs 4,300 is recommended.', 'news_sentiment': 'Positive', 'user_output': 'Thanks for asking! \\n\\nHere are the details: \\n\\nNews Article: Stock Radar: LTIMindtree gives a breakout from falling wedge pattern; time to buy after over 30% fall from highs.\\nLTIMindtree Ltd, after a 32% fall, shows signs of a bullish comeback, breaking out from a falling wedge pattern.\\nExperts suggest short-term traders can buy with a target of Rs 4,820 in 3-4 weeks, supported by positive technical indicators like Supertrend buy and RSI divergence.\\nA stop loss at Rs 4,300 is recommended. \\n\\nSentiment: Positive \\n\\nHope you are happy with the response.', 'messages': [{'role': 'user', 'content': 'You are a financial news sentiment analysis expert. Analyze the sentiment of the following financial news article and classify it as either positive, negative, or neutral.\\n\\n  Stock Radar: LTIMindtree gives a breakout from falling wedge pattern; time to buy after over 30% fall from highs.\\nLTIMindtree Ltd, after a 32% fall, shows signs of a bullish comeback, breaking out from a falling wedge pattern.\\nExperts suggest short-term traders can buy with a target of Rs 4,820 in 3-4 weeks, supported by positive technical indicators like Supertrend buy and RSI divergence.\\nA stop loss at Rs 4,300 is recommended.\\n\\n  Respond with the sentiment only. Do not explain your reasoning.'}, {'role': 'assistant', 'content': 'Positive'}]}\n"
          ]
        }
      ]
    },
    {
      "cell_type": "code",
      "source": [
        "input_news=\"\"\"Stock Radar: LTIMindtree gives a breakout from falling wedge pattern; time to buy after over 30% fall from highs.\n",
        "LTIMindtree Ltd, after a 32% fall, shows signs of a bullish comeback, breaking out from a falling wedge pattern.\n",
        "Experts suggest short-term traders can buy with a target of Rs 4,820 in 3-4 weeks, supported by positive technical indicators like Supertrend buy and RSI divergence.\n",
        "A stop loss at Rs 4,300 is recommended.\"\"\"\n",
        "\n",
        "output_news_sentiment=compiled_graph.invoke({'user_input':input_news})\n",
        "print(output_news_sentiment['user_output'])"
      ],
      "metadata": {
        "colab": {
          "base_uri": "https://localhost:8080/"
        },
        "outputId": "7f5b7d88-ab04-4267-aaa3-2ed3a260982c",
        "id": "_itX3GsB9Tt2"
      },
      "execution_count": 185,
      "outputs": [
        {
          "output_type": "stream",
          "name": "stdout",
          "text": [
            "Thanks for asking! \n",
            "\n",
            "Here are the details: \n",
            "\n",
            "News Article: Stock Radar: LTIMindtree gives a breakout from falling wedge pattern; time to buy after over 30% fall from highs.\n",
            "LTIMindtree Ltd, after a 32% fall, shows signs of a bullish comeback, breaking out from a falling wedge pattern.\n",
            "Experts suggest short-term traders can buy with a target of Rs 4,820 in 3-4 weeks, supported by positive technical indicators like Supertrend buy and RSI divergence.\n",
            "A stop loss at Rs 4,300 is recommended. \n",
            "\n",
            "Sentiment: Positive \n",
            "\n",
            "Hope you are happy with the response.\n"
          ]
        }
      ]
    },
    {
      "cell_type": "code",
      "source": [
        "input_news=\"\"\"Gautam Adani’s kin Pranav Adani, accused of insider trading by SEBI, says ‘seeking to settle’\n",
        "Pranav Adani reportedly shared unpublished price-sensitive information regarding Adani Green’s 2021 acquisition of SB Energy Holdings with his brother-in-law Kunal Shah before the deal was made public.\"\"\"\n",
        "\n",
        "output_news_sentiment=compiled_graph.invoke({'user_input':input_news})\n",
        "print(output_news_sentiment['user_output'])"
      ],
      "metadata": {
        "colab": {
          "base_uri": "https://localhost:8080/"
        },
        "outputId": "ad2d9ca2-3bf6-4edf-d2fa-309b2d7b6692",
        "id": "ytsuG6pO9SnJ"
      },
      "execution_count": 187,
      "outputs": [
        {
          "output_type": "stream",
          "name": "stdout",
          "text": [
            "Thanks for asking! \n",
            "\n",
            "Here are the details: \n",
            "\n",
            "News Article: Gautam Adani’s kin Pranav Adani, accused of insider trading by SEBI, says ‘seeking to settle’\n",
            "Pranav Adani reportedly shared unpublished price-sensitive information regarding Adani Green’s 2021 acquisition of SB Energy Holdings with his brother-in-law Kunal Shah before the deal was made public. \n",
            "\n",
            "Sentiment: Negative \n",
            "\n",
            "Hope you are happy with the response.\n"
          ]
        }
      ]
    },
    {
      "cell_type": "code",
      "source": [],
      "metadata": {
        "id": "VxHgNT0KqM7q"
      },
      "execution_count": null,
      "outputs": []
    }
  ]
}