{
  "nbformat": 4,
  "nbformat_minor": 0,
  "metadata": {
    "colab": {
      "provenance": []
    },
    "kernelspec": {
      "name": "python3",
      "display_name": "Python 3"
    },
    "language_info": {
      "name": "python"
    }
  },
  "cells": [
    {
      "cell_type": "markdown",
      "source": [
        "# This notepad demonstrates the usage Open AI's LLM model and Langgraph Agent Framework for performing sentiment analysis on financial news articles."
      ],
      "metadata": {
        "id": "HmRFj__dvz_p"
      }
    },
    {
      "cell_type": "markdown",
      "source": [
        "### Install required packages"
      ],
      "metadata": {
        "id": "zdoxvQTdwWhl"
      }
    },
    {
      "cell_type": "code",
      "source": [
        "!pip install -q langgraph langchain_openai"
      ],
      "metadata": {
        "colab": {
          "base_uri": "https://localhost:8080/"
        },
        "id": "gzUhLus8YcMc",
        "outputId": "f6d08ade-9db1-411c-a4bd-0d78ac36620d"
      },
      "execution_count": 1,
      "outputs": [
        {
          "output_type": "stream",
          "name": "stdout",
          "text": [
            "\u001b[2K     \u001b[90m━━━━━━━━━━━━━━━━━━━━━━━━━━━━━━━━━━━━━━━━\u001b[0m \u001b[32m43.5/43.5 kB\u001b[0m \u001b[31m1.4 MB/s\u001b[0m eta \u001b[36m0:00:00\u001b[0m\n",
            "\u001b[2K   \u001b[90m━━━━━━━━━━━━━━━━━━━━━━━━━━━━━━━━━━━━━━━━\u001b[0m \u001b[32m151.2/151.2 kB\u001b[0m \u001b[31m4.5 MB/s\u001b[0m eta \u001b[36m0:00:00\u001b[0m\n",
            "\u001b[2K   \u001b[90m━━━━━━━━━━━━━━━━━━━━━━━━━━━━━━━━━━━━━━━━\u001b[0m \u001b[32m62.8/62.8 kB\u001b[0m \u001b[31m2.2 MB/s\u001b[0m eta \u001b[36m0:00:00\u001b[0m\n",
            "\u001b[2K   \u001b[90m━━━━━━━━━━━━━━━━━━━━━━━━━━━━━━━━━━━━━━━━\u001b[0m \u001b[32m42.3/42.3 kB\u001b[0m \u001b[31m1.9 MB/s\u001b[0m eta \u001b[36m0:00:00\u001b[0m\n",
            "\u001b[2K   \u001b[90m━━━━━━━━━━━━━━━━━━━━━━━━━━━━━━━━━━━━━━━━\u001b[0m \u001b[32m47.6/47.6 kB\u001b[0m \u001b[31m1.2 MB/s\u001b[0m eta \u001b[36m0:00:00\u001b[0m\n",
            "\u001b[2K   \u001b[90m━━━━━━━━━━━━━━━━━━━━━━━━━━━━━━━━━━━━━━━━\u001b[0m \u001b[32m1.2/1.2 MB\u001b[0m \u001b[31m24.5 MB/s\u001b[0m eta \u001b[36m0:00:00\u001b[0m\n",
            "\u001b[2K   \u001b[90m━━━━━━━━━━━━━━━━━━━━━━━━━━━━━━━━━━━━━━━━\u001b[0m \u001b[32m194.8/194.8 kB\u001b[0m \u001b[31m10.0 MB/s\u001b[0m eta \u001b[36m0:00:00\u001b[0m\n",
            "\u001b[2K   \u001b[90m━━━━━━━━━━━━━━━━━━━━━━━━━━━━━━━━━━━━━━━━\u001b[0m \u001b[32m223.6/223.6 kB\u001b[0m \u001b[31m9.4 MB/s\u001b[0m eta \u001b[36m0:00:00\u001b[0m\n",
            "\u001b[?25h"
          ]
        }
      ]
    },
    {
      "cell_type": "markdown",
      "source": [
        "### Import required modules"
      ],
      "metadata": {
        "id": "osiA8H-owlWb"
      }
    },
    {
      "cell_type": "code",
      "source": [
        "import os\n",
        "from google.colab import userdata\n",
        "from langgraph.graph import StateGraph, START,END\n",
        "from langchain_openai import ChatOpenAI\n",
        "from langchain_core.messages import HumanMessage\n",
        "from typing import Dict, List, TypedDict, Any"
      ],
      "metadata": {
        "id": "EhoNWnQ5ZCn5"
      },
      "execution_count": 2,
      "outputs": []
    },
    {
      "cell_type": "markdown",
      "source": [
        "### Get the api_key and initilize the model"
      ],
      "metadata": {
        "id": "GgsBNl7nw1o4"
      }
    },
    {
      "cell_type": "code",
      "source": [
        "os.environ['OPENAI_API_KEY']=userdata.get('OPENAI_API_KEY')"
      ],
      "metadata": {
        "id": "l9NO7nOuYb3D"
      },
      "execution_count": 3,
      "outputs": []
    },
    {
      "cell_type": "code",
      "source": [
        "model=ChatOpenAI(temperature=0, model='gpt-4o-mini')"
      ],
      "metadata": {
        "id": "zOzutFMZaiNS"
      },
      "execution_count": 61,
      "outputs": []
    },
    {
      "cell_type": "markdown",
      "source": [
        "### Define a class with the required variables for the graph"
      ],
      "metadata": {
        "id": "czJQz029xkqI"
      }
    },
    {
      "cell_type": "code",
      "source": [
        "class newsState(TypedDict):\n",
        "  news: str\n",
        "  news_sentiment: str\n",
        "  user_output: str\n",
        "  messages: List[Dict[str,Any]]"
      ],
      "metadata": {
        "id": "ftzZhFkZcWSN"
      },
      "execution_count": 62,
      "outputs": []
    },
    {
      "cell_type": "markdown",
      "source": [
        "### Define a function for performing sentiment analysis on the input news article for the graphs node."
      ],
      "metadata": {
        "id": "o0H3bUnJxwY3"
      }
    },
    {
      "cell_type": "code",
      "execution_count": 56,
      "metadata": {
        "id": "isnGVgdwV2A_"
      },
      "outputs": [],
      "source": [
        "def perform_sentiment_analysis(newsState):\n",
        "  \"\"\"Analyze financial news and perform sentiment analysis.\"\"\"\n",
        "\n",
        "  prompt=\"\"\"You are a financial news sentiment analysis expert. Analyze the sentiment of the following financial news article and classify it as either positive, negative, or neutral.\n",
        "\n",
        "  {newsState['news']}\n",
        "\n",
        "  Respond with the sentiment only. Do not explain your reasoning.\"\"\"\n",
        "\n",
        "  messages=[HumanMessage(content=prompt)]\n",
        "\n",
        "  response = model.invoke(messages)\n",
        "\n",
        "  new_messages=[{'role':'user', 'content' : prompt}, {'role':'assistant', 'content':response.content}]\n",
        "\n",
        "  return {'news_sentiment' : response.content, 'messages' : new_messages}"
      ]
    },
    {
      "cell_type": "markdown",
      "source": [
        "### Define a function for providing the sentiment as an output."
      ],
      "metadata": {
        "id": "KLyWlYXTyMPB"
      }
    },
    {
      "cell_type": "code",
      "source": [
        "def draft_user_response(newsState):\n",
        "  \"\"\"Draft a user response based on the sentiment analysis.\"\"\"\n",
        "  output_msg=f\"Thanks for asking! \\n\\nHere are the details: \\n\\nNews Article: {newsState['news']} \\n\\nSentiment: {newsState['news_sentiment']} \\n\\nHope you are happy with the response.\"\n",
        "\n",
        "  return {'user_output' : output_msg}"
      ],
      "metadata": {
        "id": "1jxPgXrJkGC1"
      },
      "execution_count": 57,
      "outputs": []
    },
    {
      "cell_type": "markdown",
      "source": [
        "### Define the graph with the required nodes and edges"
      ],
      "metadata": {
        "id": "5OaHoLUUyhay"
      }
    },
    {
      "cell_type": "code",
      "source": [
        "newsGraph=StateGraph(newsState)\n",
        "newsGraph.add_node(\"perform_sentiment_analysis\",perform_sentiment_analysis)\n",
        "newsGraph.add_node(\"draft_user_response\",draft_user_response)\n",
        "newsGraph.add_edge(START,\"perform_sentiment_analysis\")\n",
        "newsGraph.add_edge(\"perform_sentiment_analysis\",\"draft_user_response\")\n",
        "newsGraph.add_edge(\"draft_user_response\",END)\n",
        "compiled_graph=newsGraph.compile()"
      ],
      "metadata": {
        "id": "OeI_CuvFmfI8"
      },
      "execution_count": 58,
      "outputs": []
    },
    {
      "cell_type": "markdown",
      "source": [
        "### Verify the output"
      ],
      "metadata": {
        "id": "S5lQJxjxytt_"
      }
    },
    {
      "cell_type": "code",
      "source": [
        "input_news=\"\"\"Stock Radar: LTIMindtree gives a breakout from falling wedge pattern; time to buy after over 30% fall from highs.\n",
        "LTIMindtree Ltd, after a 32% fall, shows signs of a bullish comeback, breaking out from a falling wedge pattern.\n",
        "Experts suggest short-term traders can buy with a target of Rs 4,820 in 3-4 weeks, supported by positive technical indicators like Supertrend buy and RSI divergence.\n",
        "A stop loss at Rs 4,300 is recommended.\"\"\"\n",
        "output_news_sentiment=compiled_graph.invoke({'news':input_news})\n",
        "print(output_news_sentiment['user_output'])"
      ],
      "metadata": {
        "colab": {
          "base_uri": "https://localhost:8080/"
        },
        "id": "lkWg3dLaf5Zu",
        "outputId": "ea9da9d2-a180-4516-a377-d99c85cd0ec2"
      },
      "execution_count": 59,
      "outputs": [
        {
          "output_type": "stream",
          "name": "stdout",
          "text": [
            "Thanks for asking! \n",
            "\n",
            "Here are the details: \n",
            "\n",
            "News Article: Stock Radar: LTIMindtree gives a breakout from falling wedge pattern; time to buy after over 30% fall from highs. \n",
            "LTIMindtree Ltd, after a 32% fall, shows signs of a bullish comeback, breaking out from a falling wedge pattern. \n",
            "Experts suggest short-term traders can buy with a target of Rs 4,820 in 3-4 weeks, supported by positive technical indicators like Supertrend buy and RSI divergence. \n",
            "A stop loss at Rs 4,300 is recommended. \n",
            "\n",
            "Sentiment: Neutral \n",
            "\n",
            "Hope you are happy with the response.\n"
          ]
        }
      ]
    },
    {
      "cell_type": "code",
      "source": [
        "input_news=\"\"\"SEBI accuses Adani nephew in insider trading case, he seeks to settle. India's markets regulator has alleged Pranav Adani,\n",
        "director of several Adani group companies and the nephew of the billionaire founder, shared price sensitive information and breached regulations aimed at preventing insider trading,\n",
        "according a document reviewed by Reuters.\"\"\"\n",
        "output_news_sentiment=compiled_graph.invoke({'news':input_news})\n",
        "print(output_news_sentiment['user_output'])"
      ],
      "metadata": {
        "colab": {
          "base_uri": "https://localhost:8080/"
        },
        "id": "SzKvNMpZgz4_",
        "outputId": "655b45a9-d4c9-4b64-85e2-1a39a82fb492"
      },
      "execution_count": 60,
      "outputs": [
        {
          "output_type": "stream",
          "name": "stdout",
          "text": [
            "Thanks for asking! \n",
            "\n",
            "Here are the details: \n",
            "\n",
            "News Article: SEBI accuses Adani nephew in insider trading case, he seeks to settle. India's markets regulator has alleged Pranav Adani, \n",
            "director of several Adani group companies and the nephew of the billionaire founder, shared price sensitive information and breached regulations aimed at preventing insider trading, \n",
            "according a document reviewed by Reuters. \n",
            "\n",
            "Sentiment: Neutral \n",
            "\n",
            "Hope you are happy with the response.\n"
          ]
        }
      ]
    },
    {
      "cell_type": "code",
      "source": [],
      "metadata": {
        "id": "VxHgNT0KqM7q"
      },
      "execution_count": null,
      "outputs": []
    }
  ]
}